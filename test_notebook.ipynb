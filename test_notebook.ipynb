{
 "cells": [
  {
   "cell_type": "code",
   "execution_count": 3,
   "metadata": {
    "collapsed": false
   },
   "outputs": [
    {
     "name": "stdout",
     "output_type": "stream",
     "text": [
      "Hello, world!\n"
     ]
    }
   ],
   "source": [
    "print(\"Hello, world!\")"
   ]
  },
  {
   "cell_type": "code",
   "execution_count": 2,
   "metadata": {
    "collapsed": false
   },
   "outputs": [
    {
     "name": "stdout",
     "output_type": "stream",
     "text": [
      "I am poor, please donate to my Patreon\n"
     ]
    }
   ],
   "source": [
    "print(\"I am poor, please donate to my Patreon\")"
   ]
  },
  {
   "cell_type": "markdown",
   "metadata": {},
   "source": [
    "## Heading \n",
    "\n",
    "Lorem ipsum \n",
    "\n",
    "_This will probably be underlined_\n",
    "\n",
    "**This text is actually bold**\n",
    "\n",
    "- a\n",
    "- b\n",
    "    - c\n",
    "    - d\n",
    "\n",
    "\n",
    "1. primus\n",
    "5. quintus\n",
    "2. secundus\n",
    "3. tertius\n",
    "4. quatto\n"
   ]
  },
  {
   "cell_type": "code",
   "execution_count": 26,
   "metadata": {
    "collapsed": true
   },
   "outputs": [],
   "source": [
    "class Budget:\n",
    "    \n",
    "    def __init__(self):\n",
    "        self.transaction_list = []\n",
    "    \n",
    "    def add(self, transaction):\n",
    "        self.transaction_list.append(transaction)\n",
    "        \n",
    "    def calculate_total(self):\n",
    "        sum = 0\n",
    "        for item in self.transaction_list:\n",
    "            sum += item._amount\n",
    "        \n",
    "        return sum"
   ]
  },
  {
   "cell_type": "code",
   "execution_count": 5,
   "metadata": {
    "collapsed": false
   },
   "outputs": [],
   "source": [
    "class Income:\n",
    "    \n",
    "    def __init__(self, amount, name, periodicity):\n",
    "        self._amount = amount\n",
    "        self._name = name\n",
    "        self._periodicity = periodicity\n",
    "        \n",
    "    "
   ]
  },
  {
   "cell_type": "code",
   "execution_count": 27,
   "metadata": {
    "collapsed": true
   },
   "outputs": [],
   "source": [
    "class Expense:\n",
    "    \n",
    "    def __init__(self, amount, name, periodicity):\n",
    "        self._amount = - amount\n",
    "        self._name = name\n",
    "        self._periodicity = periodicity\n",
    "        \n",
    "    "
   ]
  },
  {
   "cell_type": "code",
   "execution_count": 29,
   "metadata": {
    "collapsed": false
   },
   "outputs": [
    {
     "name": "stdout",
     "output_type": "stream",
     "text": [
      "[<__main__.Income object at 0x000002156ED6CE48>, <__main__.Income object at 0x000002156ED6CF98>, <__main__.Expense object at 0x000002156ED6C518>]\n",
      "1\n"
     ]
    }
   ],
   "source": [
    "income = Income(3, 'Riches', 'Biennial')\n",
    "blincome = Income(3, 'Wealth', 'Biennial')\n",
    "expense = Expense(5, 'Poverty', 'All the time')\n",
    "\n",
    "budget = Budget()\n",
    "\n",
    "budget.add(income)\n",
    "budget.add(blincome)\n",
    "budget.add(expense)\n",
    "print(budget.transaction_list)\n",
    "\n",
    "print(budget.calculate_total())"
   ]
  },
  {
   "cell_type": "code",
   "execution_count": null,
   "metadata": {
    "collapsed": true
   },
   "outputs": [],
   "source": []
  }
 ],
 "metadata": {
  "kernelspec": {
   "display_name": "Python 3",
   "language": "python",
   "name": "python3"
  },
  "language_info": {
   "codemirror_mode": {
    "name": "ipython",
    "version": 3
   },
   "file_extension": ".py",
   "mimetype": "text/x-python",
   "name": "python",
   "nbconvert_exporter": "python",
   "pygments_lexer": "ipython3",
   "version": "3.6.0"
  }
 },
 "nbformat": 4,
 "nbformat_minor": 2
}
